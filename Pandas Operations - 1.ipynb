{
 "cells": [
  {
   "cell_type": "markdown",
   "metadata": {},
   "source": [
    "<a href='http://www.stepupanalytics.com'> <img src='stepup_picture.png' /></a>"
   ]
  },
  {
   "cell_type": "markdown",
   "metadata": {},
   "source": [
    "# Loading Data in Pandas"
   ]
  },
  {
   "cell_type": "code",
   "execution_count": 6,
   "metadata": {},
   "outputs": [
    {
     "data": {
      "text/html": [
       "<div>\n",
       "<style scoped>\n",
       "    .dataframe tbody tr th:only-of-type {\n",
       "        vertical-align: middle;\n",
       "    }\n",
       "\n",
       "    .dataframe tbody tr th {\n",
       "        vertical-align: top;\n",
       "    }\n",
       "\n",
       "    .dataframe thead th {\n",
       "        text-align: right;\n",
       "    }\n",
       "</style>\n",
       "<table border=\"1\" class=\"dataframe\">\n",
       "  <thead>\n",
       "    <tr style=\"text-align: right;\">\n",
       "      <th></th>\n",
       "      <th>Sr No</th>\n",
       "      <th>Date</th>\n",
       "      <th>Startup_Name</th>\n",
       "      <th>Industry_Vertical</th>\n",
       "      <th>Sub_Vertical</th>\n",
       "      <th>Location</th>\n",
       "      <th>Investors</th>\n",
       "      <th>Investment_Type</th>\n",
       "      <th>Amount_in_USD</th>\n",
       "    </tr>\n",
       "  </thead>\n",
       "  <tbody>\n",
       "    <tr>\n",
       "      <th>0</th>\n",
       "      <td>0</td>\n",
       "      <td>05-09-2019</td>\n",
       "      <td>FPL Technologies</td>\n",
       "      <td>FinTech</td>\n",
       "      <td>Financial Services</td>\n",
       "      <td>Pune</td>\n",
       "      <td>Matrix Partners India, Sequoia India</td>\n",
       "      <td>Maiden Round</td>\n",
       "      <td>45,00,000</td>\n",
       "    </tr>\n",
       "    <tr>\n",
       "      <th>1</th>\n",
       "      <td>1</td>\n",
       "      <td>04-09-2019</td>\n",
       "      <td>Cashflo</td>\n",
       "      <td>FinTech</td>\n",
       "      <td>Invoice discounting platform and SME lending m...</td>\n",
       "      <td>Mumbai</td>\n",
       "      <td>SAIF Partners</td>\n",
       "      <td>Series A</td>\n",
       "      <td>33,00,000</td>\n",
       "    </tr>\n",
       "    <tr>\n",
       "      <th>2</th>\n",
       "      <td>2</td>\n",
       "      <td>04-09-2019</td>\n",
       "      <td>Digital F5</td>\n",
       "      <td>Advertising, Marketing</td>\n",
       "      <td>Digital marketing firm</td>\n",
       "      <td>Mumbai</td>\n",
       "      <td>TIW Private Equity</td>\n",
       "      <td>Private Equity Round</td>\n",
       "      <td>60,00,000</td>\n",
       "    </tr>\n",
       "    <tr>\n",
       "      <th>3</th>\n",
       "      <td>3</td>\n",
       "      <td>04-09-2019</td>\n",
       "      <td>3rdFlix</td>\n",
       "      <td>SaaS</td>\n",
       "      <td>Education Technology</td>\n",
       "      <td>Hyderabad</td>\n",
       "      <td>Exfinity Venture Partners</td>\n",
       "      <td>pre-series A</td>\n",
       "      <td>50,00,000</td>\n",
       "    </tr>\n",
       "    <tr>\n",
       "      <th>4</th>\n",
       "      <td>4</td>\n",
       "      <td>04-09-2019</td>\n",
       "      <td>75F</td>\n",
       "      <td>IoT</td>\n",
       "      <td>Building automation system</td>\n",
       "      <td>Burnsville</td>\n",
       "      <td>Breakthrough Energy Ventures</td>\n",
       "      <td>Series A</td>\n",
       "      <td>1,80,00,000</td>\n",
       "    </tr>\n",
       "  </tbody>\n",
       "</table>\n",
       "</div>"
      ],
      "text/plain": [
       "   Sr No        Date      Startup_Name       Industry_Vertical  \\\n",
       "0      0  05-09-2019  FPL Technologies                 FinTech   \n",
       "1      1  04-09-2019           Cashflo                 FinTech   \n",
       "2      2  04-09-2019        Digital F5  Advertising, Marketing   \n",
       "3      3  04-09-2019           3rdFlix                    SaaS   \n",
       "4      4  04-09-2019               75F                     IoT   \n",
       "\n",
       "                                        Sub_Vertical    Location  \\\n",
       "0                                 Financial Services        Pune   \n",
       "1  Invoice discounting platform and SME lending m...      Mumbai   \n",
       "2                             Digital marketing firm      Mumbai   \n",
       "3                               Education Technology   Hyderabad   \n",
       "4                         Building automation system  Burnsville   \n",
       "\n",
       "                              Investors       Investment_Type Amount_in_USD  \n",
       "0  Matrix Partners India, Sequoia India          Maiden Round     45,00,000  \n",
       "1                         SAIF Partners              Series A     33,00,000  \n",
       "2                    TIW Private Equity  Private Equity Round     60,00,000  \n",
       "3             Exfinity Venture Partners          pre-series A     50,00,000  \n",
       "4          Breakthrough Energy Ventures              Series A   1,80,00,000  "
      ]
     },
     "execution_count": 6,
     "metadata": {},
     "output_type": "execute_result"
    }
   ],
   "source": [
    "import pandas as pd\n",
    "\n",
    "#Loading the startup funding dataset from local system.\n",
    "startup = pd.read_csv(\"startup_funding.csv\")\n",
    "\n",
    "startup.head()\n"
   ]
  },
  {
   "cell_type": "code",
   "execution_count": 7,
   "metadata": {},
   "outputs": [
    {
     "data": {
      "text/plain": [
       "(3009, 9)"
      ]
     },
     "execution_count": 7,
     "metadata": {},
     "output_type": "execute_result"
    }
   ],
   "source": [
    "startup.shape"
   ]
  },
  {
   "cell_type": "markdown",
   "metadata": {},
   "source": [
    "# Sorting in Pandas"
   ]
  },
  {
   "cell_type": "code",
   "execution_count": 20,
   "metadata": {},
   "outputs": [
    {
     "data": {
      "text/plain": [
       "2286    360-degree view creating platform\n",
       "2680              3D Printer Manufacturer\n",
       "77                                     AI\n",
       "2768                API Workflow platform\n",
       "8                              Accounting\n",
       "Name: Industry_Vertical, dtype: object"
      ]
     },
     "execution_count": 20,
     "metadata": {},
     "output_type": "execute_result"
    }
   ],
   "source": [
    "#sort the \"industry_vertical\" column in ascending order (It will return a series)\n",
    "\n",
    "startup.Industry_Vertical.sort_values().head()"
   ]
  },
  {
   "cell_type": "code",
   "execution_count": 24,
   "metadata": {},
   "outputs": [
    {
     "data": {
      "text/plain": [
       "2127                 visual search and discovery platform\n",
       "2408    virtual reality, 3d simulation and stereoscopi...\n",
       "2818                           usiness expense management\n",
       "2258           us ticketing and fleet management platform\n",
       "2521              solar products and services marketplace\n",
       "Name: Industry_Vertical, dtype: object"
      ]
     },
     "execution_count": 24,
     "metadata": {},
     "output_type": "execute_result"
    }
   ],
   "source": [
    "#sort the \"industry_vertical\" column in descending order (It will return a series)\n",
    "\n",
    "\n",
    "startup.Industry_Vertical.sort_values(ascending=False).head()"
   ]
  },
  {
   "cell_type": "code",
   "execution_count": 26,
   "metadata": {},
   "outputs": [
    {
     "data": {
      "text/html": [
       "<div>\n",
       "<style scoped>\n",
       "    .dataframe tbody tr th:only-of-type {\n",
       "        vertical-align: middle;\n",
       "    }\n",
       "\n",
       "    .dataframe tbody tr th {\n",
       "        vertical-align: top;\n",
       "    }\n",
       "\n",
       "    .dataframe thead th {\n",
       "        text-align: right;\n",
       "    }\n",
       "</style>\n",
       "<table border=\"1\" class=\"dataframe\">\n",
       "  <thead>\n",
       "    <tr style=\"text-align: right;\">\n",
       "      <th></th>\n",
       "      <th>Sr No</th>\n",
       "      <th>Date</th>\n",
       "      <th>Startup_Name</th>\n",
       "      <th>Industry_Vertical</th>\n",
       "      <th>Sub_Vertical</th>\n",
       "      <th>Location</th>\n",
       "      <th>Investors</th>\n",
       "      <th>Investment_Type</th>\n",
       "      <th>Amount_in_USD</th>\n",
       "    </tr>\n",
       "  </thead>\n",
       "  <tbody>\n",
       "    <tr>\n",
       "      <th>2286</th>\n",
       "      <td>2322</td>\n",
       "      <td>09-10-2015</td>\n",
       "      <td>WoNoBo</td>\n",
       "      <td>360-degree view creating platform</td>\n",
       "      <td>NaN</td>\n",
       "      <td>Bangalore</td>\n",
       "      <td>Quikr</td>\n",
       "      <td>Private Equity</td>\n",
       "      <td>NaN</td>\n",
       "    </tr>\n",
       "    <tr>\n",
       "      <th>2680</th>\n",
       "      <td>2724</td>\n",
       "      <td>18-06-2015</td>\n",
       "      <td>Fracktal Works</td>\n",
       "      <td>3D Printer Manufacturer</td>\n",
       "      <td>NaN</td>\n",
       "      <td>Bangalore</td>\n",
       "      <td>Neoteric Infomatique Limited</td>\n",
       "      <td>Private Equity</td>\n",
       "      <td>30,00,000</td>\n",
       "    </tr>\n",
       "    <tr>\n",
       "      <th>77</th>\n",
       "      <td>78</td>\n",
       "      <td>01-02-2019</td>\n",
       "      <td>FleetX</td>\n",
       "      <td>AI</td>\n",
       "      <td>Logistics</td>\n",
       "      <td>Gurgaon</td>\n",
       "      <td>India Quotient and LetsVenture\\\\xe2\\\\x80\\\\x99s...</td>\n",
       "      <td>Pre Series A</td>\n",
       "      <td>Undisclosed</td>\n",
       "    </tr>\n",
       "    <tr>\n",
       "      <th>2768</th>\n",
       "      <td>2813</td>\n",
       "      <td>27-05-2015</td>\n",
       "      <td>Postman</td>\n",
       "      <td>API Workflow platform</td>\n",
       "      <td>NaN</td>\n",
       "      <td>Bangalore</td>\n",
       "      <td>Nexus Venture Partners</td>\n",
       "      <td>Seed Funding</td>\n",
       "      <td>10,00,000</td>\n",
       "    </tr>\n",
       "    <tr>\n",
       "      <th>8</th>\n",
       "      <td>8</td>\n",
       "      <td>03-09-2019</td>\n",
       "      <td>Vyapar App</td>\n",
       "      <td>Accounting</td>\n",
       "      <td>Mobile-based Accounting Software</td>\n",
       "      <td>Bengaluru</td>\n",
       "      <td>India Quotient, Axilor Ventures</td>\n",
       "      <td>Series A</td>\n",
       "      <td>50,00,000</td>\n",
       "    </tr>\n",
       "  </tbody>\n",
       "</table>\n",
       "</div>"
      ],
      "text/plain": [
       "      Sr No        Date    Startup_Name                  Industry_Vertical  \\\n",
       "2286   2322  09-10-2015          WoNoBo  360-degree view creating platform   \n",
       "2680   2724  18-06-2015  Fracktal Works            3D Printer Manufacturer   \n",
       "77       78  01-02-2019          FleetX                                 AI   \n",
       "2768   2813  27-05-2015         Postman              API Workflow platform   \n",
       "8         8  03-09-2019      Vyapar App                         Accounting   \n",
       "\n",
       "                          Sub_Vertical   Location  \\\n",
       "2286                               NaN  Bangalore   \n",
       "2680                               NaN  Bangalore   \n",
       "77                           Logistics    Gurgaon   \n",
       "2768                               NaN  Bangalore   \n",
       "8     Mobile-based Accounting Software  Bengaluru   \n",
       "\n",
       "                                              Investors Investment_Type  \\\n",
       "2286                                              Quikr  Private Equity   \n",
       "2680                       Neoteric Infomatique Limited  Private Equity   \n",
       "77    India Quotient and LetsVenture\\\\xe2\\\\x80\\\\x99s...    Pre Series A   \n",
       "2768                             Nexus Venture Partners    Seed Funding   \n",
       "8                       India Quotient, Axilor Ventures        Series A   \n",
       "\n",
       "     Amount_in_USD  \n",
       "2286           NaN  \n",
       "2680     30,00,000  \n",
       "77     Undisclosed  \n",
       "2768     10,00,000  \n",
       "8        50,00,000  "
      ]
     },
     "execution_count": 26,
     "metadata": {},
     "output_type": "execute_result"
    }
   ],
   "source": [
    "# sorting the entire dataframe by \"Industry_Vertical\" Series, we will get a dataframe as output)\n",
    "\n",
    "startup.sort_values(\"Industry_Vertical\").head()"
   ]
  },
  {
   "cell_type": "code",
   "execution_count": 28,
   "metadata": {},
   "outputs": [
    {
     "data": {
      "text/html": [
       "<div>\n",
       "<style scoped>\n",
       "    .dataframe tbody tr th:only-of-type {\n",
       "        vertical-align: middle;\n",
       "    }\n",
       "\n",
       "    .dataframe tbody tr th {\n",
       "        vertical-align: top;\n",
       "    }\n",
       "\n",
       "    .dataframe thead th {\n",
       "        text-align: right;\n",
       "    }\n",
       "</style>\n",
       "<table border=\"1\" class=\"dataframe\">\n",
       "  <thead>\n",
       "    <tr style=\"text-align: right;\">\n",
       "      <th></th>\n",
       "      <th>Sr No</th>\n",
       "      <th>Date</th>\n",
       "      <th>Startup_Name</th>\n",
       "      <th>Industry_Vertical</th>\n",
       "      <th>Sub_Vertical</th>\n",
       "      <th>Location</th>\n",
       "      <th>Investors</th>\n",
       "      <th>Investment_Type</th>\n",
       "      <th>Amount_in_USD</th>\n",
       "    </tr>\n",
       "  </thead>\n",
       "  <tbody>\n",
       "    <tr>\n",
       "      <th>2127</th>\n",
       "      <td>2162</td>\n",
       "      <td>15-12-2015</td>\n",
       "      <td>Streamoid</td>\n",
       "      <td>visual search and discovery platform</td>\n",
       "      <td>NaN</td>\n",
       "      <td>Bangalore / Palo Alto</td>\n",
       "      <td>Undisclosed</td>\n",
       "      <td>Seed Funding</td>\n",
       "      <td>10,00,000</td>\n",
       "    </tr>\n",
       "    <tr>\n",
       "      <th>2408</th>\n",
       "      <td>2444</td>\n",
       "      <td>22-09-2015</td>\n",
       "      <td>Virtual Logic</td>\n",
       "      <td>virtual reality, 3d simulation and stereoscopi...</td>\n",
       "      <td>NaN</td>\n",
       "      <td>Bangalore</td>\n",
       "      <td>Swarnim Multiventures</td>\n",
       "      <td>Private Equity</td>\n",
       "      <td>8,00,000</td>\n",
       "    </tr>\n",
       "    <tr>\n",
       "      <th>2818</th>\n",
       "      <td>2865</td>\n",
       "      <td>23-04-2015</td>\n",
       "      <td>happay</td>\n",
       "      <td>usiness expense management</td>\n",
       "      <td>NaN</td>\n",
       "      <td>Bangalore</td>\n",
       "      <td>AngelPrime</td>\n",
       "      <td>Seed Funding</td>\n",
       "      <td>5,00,000</td>\n",
       "    </tr>\n",
       "    <tr>\n",
       "      <th>2258</th>\n",
       "      <td>2294</td>\n",
       "      <td>01-10-2015</td>\n",
       "      <td>Abhibus</td>\n",
       "      <td>us ticketing and fleet management platform</td>\n",
       "      <td>NaN</td>\n",
       "      <td>Hyderabad</td>\n",
       "      <td>Paytm (One97 communications)</td>\n",
       "      <td>Private Equity</td>\n",
       "      <td>NaN</td>\n",
       "    </tr>\n",
       "    <tr>\n",
       "      <th>2521</th>\n",
       "      <td>2560</td>\n",
       "      <td>26-08-2015</td>\n",
       "      <td>EzySolare</td>\n",
       "      <td>solar products and services marketplace</td>\n",
       "      <td>NaN</td>\n",
       "      <td>Ahmedabad</td>\n",
       "      <td>Infuse Ventures</td>\n",
       "      <td>Seed Funding</td>\n",
       "      <td>NaN</td>\n",
       "    </tr>\n",
       "  </tbody>\n",
       "</table>\n",
       "</div>"
      ],
      "text/plain": [
       "      Sr No        Date   Startup_Name  \\\n",
       "2127   2162  15-12-2015      Streamoid   \n",
       "2408   2444  22-09-2015  Virtual Logic   \n",
       "2818   2865  23-04-2015         happay   \n",
       "2258   2294  01-10-2015        Abhibus   \n",
       "2521   2560  26-08-2015      EzySolare   \n",
       "\n",
       "                                      Industry_Vertical Sub_Vertical  \\\n",
       "2127               visual search and discovery platform          NaN   \n",
       "2408  virtual reality, 3d simulation and stereoscopi...          NaN   \n",
       "2818                         usiness expense management          NaN   \n",
       "2258         us ticketing and fleet management platform          NaN   \n",
       "2521            solar products and services marketplace          NaN   \n",
       "\n",
       "                   Location                     Investors Investment_Type  \\\n",
       "2127  Bangalore / Palo Alto                   Undisclosed    Seed Funding   \n",
       "2408              Bangalore         Swarnim Multiventures  Private Equity   \n",
       "2818              Bangalore                    AngelPrime    Seed Funding   \n",
       "2258              Hyderabad  Paytm (One97 communications)  Private Equity   \n",
       "2521              Ahmedabad               Infuse Ventures    Seed Funding   \n",
       "\n",
       "     Amount_in_USD  \n",
       "2127     10,00,000  \n",
       "2408      8,00,000  \n",
       "2818      5,00,000  \n",
       "2258           NaN  \n",
       "2521           NaN  "
      ]
     },
     "execution_count": 28,
     "metadata": {},
     "output_type": "execute_result"
    }
   ],
   "source": [
    "startup.sort_values(\"Industry_Vertical\",ascending=False).head()"
   ]
  },
  {
   "cell_type": "code",
   "execution_count": 35,
   "metadata": {},
   "outputs": [
    {
     "data": {
      "text/html": [
       "<div>\n",
       "<style scoped>\n",
       "    .dataframe tbody tr th:only-of-type {\n",
       "        vertical-align: middle;\n",
       "    }\n",
       "\n",
       "    .dataframe tbody tr th {\n",
       "        vertical-align: top;\n",
       "    }\n",
       "\n",
       "    .dataframe thead th {\n",
       "        text-align: right;\n",
       "    }\n",
       "</style>\n",
       "<table border=\"1\" class=\"dataframe\">\n",
       "  <thead>\n",
       "    <tr style=\"text-align: right;\">\n",
       "      <th></th>\n",
       "      <th>Sr No</th>\n",
       "      <th>Date</th>\n",
       "      <th>Startup_Name</th>\n",
       "      <th>Industry_Vertical</th>\n",
       "      <th>Sub_Vertical</th>\n",
       "      <th>Location</th>\n",
       "      <th>Investors</th>\n",
       "      <th>Investment_Type</th>\n",
       "      <th>Amount_in_USD</th>\n",
       "    </tr>\n",
       "  </thead>\n",
       "  <tbody>\n",
       "    <tr>\n",
       "      <th>32</th>\n",
       "      <td>33</td>\n",
       "      <td>10-07-2019</td>\n",
       "      <td>\"BYJU\\\\'S\"</td>\n",
       "      <td>EdTech</td>\n",
       "      <td>Education</td>\n",
       "      <td>Bengaluru</td>\n",
       "      <td>Qatar Investment Authority</td>\n",
       "      <td>Private Equity Round</td>\n",
       "      <td>15,00,00,000</td>\n",
       "    </tr>\n",
       "    <tr>\n",
       "      <th>2957</th>\n",
       "      <td>3006</td>\n",
       "      <td>05-01-2015</td>\n",
       "      <td>#Fame</td>\n",
       "      <td>NaN</td>\n",
       "      <td>NaN</td>\n",
       "      <td>NaN</td>\n",
       "      <td>TO THE NEW Ventures</td>\n",
       "      <td>Private Equity</td>\n",
       "      <td>1,00,00,000</td>\n",
       "    </tr>\n",
       "    <tr>\n",
       "      <th>1207</th>\n",
       "      <td>1225</td>\n",
       "      <td>25-11-2016</td>\n",
       "      <td>121Policy</td>\n",
       "      <td>Consumer Internet</td>\n",
       "      <td>Online Insurance Platform</td>\n",
       "      <td>Kolkata</td>\n",
       "      <td>Xelpmoc</td>\n",
       "      <td>Seed Funding</td>\n",
       "      <td>NaN</td>\n",
       "    </tr>\n",
       "    <tr>\n",
       "      <th>166</th>\n",
       "      <td>168</td>\n",
       "      <td>12-07-2018</td>\n",
       "      <td>19th mile</td>\n",
       "      <td>IT</td>\n",
       "      <td>Artificial intelligence-based sales accelerati...</td>\n",
       "      <td>Gurugram</td>\n",
       "      <td>Rishi Vasudev, Excelsior Investments, Ritesh V...</td>\n",
       "      <td>Seed/ Angel Funding</td>\n",
       "      <td>1,80,000</td>\n",
       "    </tr>\n",
       "    <tr>\n",
       "      <th>972</th>\n",
       "      <td>985</td>\n",
       "      <td>09-02-2017</td>\n",
       "      <td>1Crowd</td>\n",
       "      <td>Finance</td>\n",
       "      <td>Startup Crowd-funding platform</td>\n",
       "      <td>Mumbai</td>\n",
       "      <td>Ganesh Natarajan</td>\n",
       "      <td>Seed Funding</td>\n",
       "      <td>NaN</td>\n",
       "    </tr>\n",
       "  </tbody>\n",
       "</table>\n",
       "</div>"
      ],
      "text/plain": [
       "      Sr No        Date Startup_Name  Industry_Vertical  \\\n",
       "32       33  10-07-2019   \"BYJU\\\\'S\"             EdTech   \n",
       "2957   3006  05-01-2015        #Fame                NaN   \n",
       "1207   1225  25-11-2016    121Policy  Consumer Internet   \n",
       "166     168  12-07-2018    19th mile                 IT   \n",
       "972     985  09-02-2017       1Crowd            Finance   \n",
       "\n",
       "                                           Sub_Vertical   Location  \\\n",
       "32                                            Education  Bengaluru   \n",
       "2957                                                NaN        NaN   \n",
       "1207                          Online Insurance Platform    Kolkata   \n",
       "166   Artificial intelligence-based sales accelerati...   Gurugram   \n",
       "972                      Startup Crowd-funding platform     Mumbai   \n",
       "\n",
       "                                              Investors       Investment_Type  \\\n",
       "32                           Qatar Investment Authority  Private Equity Round   \n",
       "2957                                TO THE NEW Ventures        Private Equity   \n",
       "1207                                            Xelpmoc          Seed Funding   \n",
       "166   Rishi Vasudev, Excelsior Investments, Ritesh V...   Seed/ Angel Funding   \n",
       "972                                    Ganesh Natarajan          Seed Funding   \n",
       "\n",
       "     Amount_in_USD  \n",
       "32    15,00,00,000  \n",
       "2957   1,00,00,000  \n",
       "1207           NaN  \n",
       "166       1,80,000  \n",
       "972            NaN  "
      ]
     },
     "execution_count": 35,
     "metadata": {},
     "output_type": "execute_result"
    }
   ],
   "source": [
    "# sorting the dataframe by using first 'Startup_Name' and 'Sub_Vertical'\n",
    "\n",
    "startup.sort_values(['Startup_Name','Sub_Vertical']).head()"
   ]
  },
  {
   "cell_type": "code",
   "execution_count": 38,
   "metadata": {},
   "outputs": [
    {
     "data": {
      "text/html": [
       "<div>\n",
       "<style scoped>\n",
       "    .dataframe tbody tr th:only-of-type {\n",
       "        vertical-align: middle;\n",
       "    }\n",
       "\n",
       "    .dataframe tbody tr th {\n",
       "        vertical-align: top;\n",
       "    }\n",
       "\n",
       "    .dataframe thead th {\n",
       "        text-align: right;\n",
       "    }\n",
       "</style>\n",
       "<table border=\"1\" class=\"dataframe\">\n",
       "  <thead>\n",
       "    <tr style=\"text-align: right;\">\n",
       "      <th></th>\n",
       "      <th>Sr No</th>\n",
       "      <th>Date</th>\n",
       "      <th>Startup_Name</th>\n",
       "      <th>Industry_Vertical</th>\n",
       "      <th>Sub_Vertical</th>\n",
       "      <th>Location</th>\n",
       "      <th>Investors</th>\n",
       "      <th>Investment_Type</th>\n",
       "      <th>Amount_in_USD</th>\n",
       "    </tr>\n",
       "  </thead>\n",
       "  <tbody>\n",
       "    <tr>\n",
       "      <th>159</th>\n",
       "      <td>161</td>\n",
       "      <td>09-07-2018</td>\n",
       "      <td>zippserv</td>\n",
       "      <td>Consumer Internet</td>\n",
       "      <td>Online Platform For Risk-Assessment Services F...</td>\n",
       "      <td>Bengaluru</td>\n",
       "      <td>Info Edge (India) Ltd</td>\n",
       "      <td>Seed/ Angel Funding</td>\n",
       "      <td>4,40,000</td>\n",
       "    </tr>\n",
       "    <tr>\n",
       "      <th>693</th>\n",
       "      <td>696</td>\n",
       "      <td>06-06-2017</td>\n",
       "      <td>wayForward</td>\n",
       "      <td>Consumer Internet</td>\n",
       "      <td>Mobile app for Mental Health</td>\n",
       "      <td>New Delhi</td>\n",
       "      <td>Harsh Mahajan, Farhan Naqvi, Sreepathy Viswana...</td>\n",
       "      <td>Seed Funding</td>\n",
       "      <td>10,00,000</td>\n",
       "    </tr>\n",
       "    <tr>\n",
       "      <th>2867</th>\n",
       "      <td>2914</td>\n",
       "      <td>18-03-2015</td>\n",
       "      <td>wWhere</td>\n",
       "      <td>NaN</td>\n",
       "      <td>NaN</td>\n",
       "      <td>NaN</td>\n",
       "      <td>Group of Angel Investors</td>\n",
       "      <td>Seed Funding</td>\n",
       "      <td>2,00,000</td>\n",
       "    </tr>\n",
       "    <tr>\n",
       "      <th>1810</th>\n",
       "      <td>1841</td>\n",
       "      <td>08-03-2016</td>\n",
       "      <td>vPhrase Analytics</td>\n",
       "      <td>Technology</td>\n",
       "      <td>AI based data analytics platform</td>\n",
       "      <td>Mumbai</td>\n",
       "      <td>Apoorv Ranjan Sharma, Daud Ali and others</td>\n",
       "      <td>Seed Funding</td>\n",
       "      <td>NaN</td>\n",
       "    </tr>\n",
       "    <tr>\n",
       "      <th>1163</th>\n",
       "      <td>1181</td>\n",
       "      <td>04-11-2016</td>\n",
       "      <td>vImmune</td>\n",
       "      <td>Consumer Internet</td>\n",
       "      <td>Immunisation Management Platform</td>\n",
       "      <td>Bangalore</td>\n",
       "      <td>Undisclosed investor</td>\n",
       "      <td>Seed Funding</td>\n",
       "      <td>NaN</td>\n",
       "    </tr>\n",
       "  </tbody>\n",
       "</table>\n",
       "</div>"
      ],
      "text/plain": [
       "      Sr No        Date       Startup_Name  Industry_Vertical  \\\n",
       "159     161  09-07-2018           zippserv  Consumer Internet   \n",
       "693     696  06-06-2017         wayForward  Consumer Internet   \n",
       "2867   2914  18-03-2015             wWhere                NaN   \n",
       "1810   1841  08-03-2016  vPhrase Analytics         Technology   \n",
       "1163   1181  04-11-2016            vImmune  Consumer Internet   \n",
       "\n",
       "                                           Sub_Vertical   Location  \\\n",
       "159   Online Platform For Risk-Assessment Services F...  Bengaluru   \n",
       "693                        Mobile app for Mental Health  New Delhi   \n",
       "2867                                                NaN        NaN   \n",
       "1810                   AI based data analytics platform     Mumbai   \n",
       "1163                   Immunisation Management Platform  Bangalore   \n",
       "\n",
       "                                              Investors      Investment_Type  \\\n",
       "159                               Info Edge (India) Ltd  Seed/ Angel Funding   \n",
       "693   Harsh Mahajan, Farhan Naqvi, Sreepathy Viswana...         Seed Funding   \n",
       "2867                           Group of Angel Investors         Seed Funding   \n",
       "1810          Apoorv Ranjan Sharma, Daud Ali and others         Seed Funding   \n",
       "1163                               Undisclosed investor         Seed Funding   \n",
       "\n",
       "     Amount_in_USD  \n",
       "159       4,40,000  \n",
       "693      10,00,000  \n",
       "2867      2,00,000  \n",
       "1810           NaN  \n",
       "1163           NaN  "
      ]
     },
     "execution_count": 38,
     "metadata": {},
     "output_type": "execute_result"
    }
   ],
   "source": [
    "# sorting the dataframe by using first 'Startup_Name' and 'Sub_Vertical'\n",
    "\n",
    "startup.sort_values(['Startup_Name','Sub_Vertical'],ascending=False).head()"
   ]
  },
  {
   "cell_type": "markdown",
   "metadata": {},
   "source": [
    "<a href=\"https://pandas.pydata.org/pandas-docs/version/0.19/generated/pandas.DataFrame.sort.html\">**Sort function Documentation**</a>"
   ]
  },
  {
   "cell_type": "markdown",
   "metadata": {},
   "source": [
    "<a href='https://pandas.pydata.org/pandas-docs/version/0.19/generated/pandas.DataFrame.sort.html'> </a>"
   ]
  },
  {
   "cell_type": "markdown",
   "metadata": {},
   "source": [
    "# Filtering rows of a dataframe by using column value"
   ]
  },
  {
   "cell_type": "markdown",
   "metadata": {},
   "source": [
    "**Aim** : We will create a list where each element is a dataframe row. The output will be **True** if a condition is satisfied, otherwise output is **False**."
   ]
  },
  {
   "cell_type": "code",
   "execution_count": 62,
   "metadata": {},
   "outputs": [],
   "source": [
    "startup_funds = []\n",
    "for funding in startup.Amount_in_USD:\n",
    "    if funding == 1000000:\n",
    "        startup_funds.append(True)\n",
    "    else:\n",
    "        startup_funds.append(False)"
   ]
  },
  {
   "cell_type": "code",
   "execution_count": 63,
   "metadata": {},
   "outputs": [
    {
     "data": {
      "text/plain": [
       "3009"
      ]
     },
     "execution_count": 63,
     "metadata": {},
     "output_type": "execute_result"
    }
   ],
   "source": [
    "# For checking how many elements are present in list\n",
    "len(startup_funds)"
   ]
  },
  {
   "cell_type": "code",
   "execution_count": 65,
   "metadata": {},
   "outputs": [
    {
     "data": {
      "text/plain": [
       "[False, False, False, False, False, False, False, False, False, False]"
      ]
     },
     "execution_count": 65,
     "metadata": {},
     "output_type": "execute_result"
    }
   ],
   "source": [
    "# Checking the initial elements of list\n",
    "startup_funds[0:10]"
   ]
  },
  {
   "cell_type": "code",
   "execution_count": 78,
   "metadata": {},
   "outputs": [
    {
     "data": {
      "text/plain": [
       "5                Myelin Foundry\n",
       "8                    Vyapar App\n",
       "11                 MyPetrolPump\n",
       "14                       Meesho\n",
       "18                    Lo! Foods\n",
       "21                    HungerBox\n",
       "25             Rapido Bike Taxi\n",
       "32                   \"BYJU\\\\'S\"\n",
       "39                     NoBroker\n",
       "42                Avail Finance\n",
       "45                   Agara Labs\n",
       "48                    Pratilipi\n",
       "49                     Bolo App\n",
       "54                 Ola Electric\n",
       "55            Saahas Zero Waste\n",
       "57                    BlackBuck\n",
       "59                 Ather Energy\n",
       "61                     GlowRoad\n",
       "63                       Kuvera\n",
       "64                      Medlife\n",
       "68                         Setu\n",
       "71                    Unacademy\n",
       "74                     KrazyBee\n",
       "76                      Increff\n",
       "91                       GoDesi\n",
       "93                       Meesho\n",
       "94        Mobile Premier League\n",
       "98                       DriveU\n",
       "99                   CleanseCar\n",
       "101                 HealthifyMe\n",
       "                 ...           \n",
       "341                      happay\n",
       "345                       Udaan\n",
       "346                   Capillary\n",
       "351                    Lollypop\n",
       "354                       Credy\n",
       "355             Predible Health\n",
       "358                        WOTU\n",
       "359                       DAAKI\n",
       "362                       Tapzo\n",
       "367                    Razorpay\n",
       "368                      Streak\n",
       "369                 pi Ventures\n",
       "372                   ShareChat\n",
       "375                    Skillate\n",
       "377               AEON Learning\n",
       "382                     Glassic\n",
       "384                        Axio\n",
       "389                      Scapic\n",
       "391                     CureFit\n",
       "392                    iNurture\n",
       "407               Project Mudra\n",
       "408                    Furlenco\n",
       "410              Fracktal Works\n",
       "415                     DocsApp\n",
       "417                     Tea Box\n",
       "418    Transversal Technologies\n",
       "420                    HomeLane\n",
       "425                 Springboard\n",
       "428                  Your Quote\n",
       "431                    EasyEcom\n",
       "Name: Startup_Name, Length: 132, dtype: object"
      ]
     },
     "execution_count": 78,
     "metadata": {},
     "output_type": "execute_result"
    }
   ],
   "source": [
    "# filtering values with specific column value\n",
    "\n",
    "startup[startup.Location == \"Bengaluru\"].Startup_Name"
   ]
  },
  {
   "cell_type": "markdown",
   "metadata": {},
   "source": [
    "# Usage of loc and iloc method"
   ]
  },
  {
   "cell_type": "markdown",
   "metadata": {},
   "source": [
    "### loc method is generally preferred when selection of rows and columns takes place with the help of **label**.\n",
    "\n",
    "We can pass following types of values to it.\n",
    "\n",
    "**Single label**, **list of labels**, **slice of labels**, **boolean series** and **colon**"
   ]
  },
  {
   "cell_type": "code",
   "execution_count": 85,
   "metadata": {},
   "outputs": [
    {
     "data": {
      "text/html": [
       "<div>\n",
       "<style scoped>\n",
       "    .dataframe tbody tr th:only-of-type {\n",
       "        vertical-align: middle;\n",
       "    }\n",
       "\n",
       "    .dataframe tbody tr th {\n",
       "        vertical-align: top;\n",
       "    }\n",
       "\n",
       "    .dataframe thead th {\n",
       "        text-align: right;\n",
       "    }\n",
       "</style>\n",
       "<table border=\"1\" class=\"dataframe\">\n",
       "  <thead>\n",
       "    <tr style=\"text-align: right;\">\n",
       "      <th></th>\n",
       "      <th>Sr No</th>\n",
       "      <th>Date</th>\n",
       "      <th>Startup_Name</th>\n",
       "      <th>Industry_Vertical</th>\n",
       "      <th>Sub_Vertical</th>\n",
       "      <th>Location</th>\n",
       "      <th>Investors</th>\n",
       "      <th>Investment_Type</th>\n",
       "      <th>Amount_in_USD</th>\n",
       "    </tr>\n",
       "  </thead>\n",
       "  <tbody>\n",
       "    <tr>\n",
       "      <th>0</th>\n",
       "      <td>0</td>\n",
       "      <td>05-09-2019</td>\n",
       "      <td>FPL Technologies</td>\n",
       "      <td>FinTech</td>\n",
       "      <td>Financial Services</td>\n",
       "      <td>Pune</td>\n",
       "      <td>Matrix Partners India, Sequoia India</td>\n",
       "      <td>Maiden Round</td>\n",
       "      <td>45,00,000</td>\n",
       "    </tr>\n",
       "    <tr>\n",
       "      <th>1</th>\n",
       "      <td>1</td>\n",
       "      <td>04-09-2019</td>\n",
       "      <td>Cashflo</td>\n",
       "      <td>FinTech</td>\n",
       "      <td>Invoice discounting platform and SME lending m...</td>\n",
       "      <td>Mumbai</td>\n",
       "      <td>SAIF Partners</td>\n",
       "      <td>Series A</td>\n",
       "      <td>33,00,000</td>\n",
       "    </tr>\n",
       "  </tbody>\n",
       "</table>\n",
       "</div>"
      ],
      "text/plain": [
       "   Sr No        Date      Startup_Name Industry_Vertical  \\\n",
       "0      0  05-09-2019  FPL Technologies           FinTech   \n",
       "1      1  04-09-2019           Cashflo           FinTech   \n",
       "\n",
       "                                        Sub_Vertical Location  \\\n",
       "0                                 Financial Services     Pune   \n",
       "1  Invoice discounting platform and SME lending m...   Mumbai   \n",
       "\n",
       "                              Investors Investment_Type Amount_in_USD  \n",
       "0  Matrix Partners India, Sequoia India    Maiden Round     45,00,000  \n",
       "1                         SAIF Partners        Series A     33,00,000  "
      ]
     },
     "execution_count": 85,
     "metadata": {},
     "output_type": "execute_result"
    }
   ],
   "source": [
    "# First 2 rows with last 3 columns\n",
    "\n",
    "startup.loc[0:1,:]"
   ]
  },
  {
   "cell_type": "code",
   "execution_count": 94,
   "metadata": {},
   "outputs": [
    {
     "data": {
      "text/html": [
       "<div>\n",
       "<style scoped>\n",
       "    .dataframe tbody tr th:only-of-type {\n",
       "        vertical-align: middle;\n",
       "    }\n",
       "\n",
       "    .dataframe tbody tr th {\n",
       "        vertical-align: top;\n",
       "    }\n",
       "\n",
       "    .dataframe thead th {\n",
       "        text-align: right;\n",
       "    }\n",
       "</style>\n",
       "<table border=\"1\" class=\"dataframe\">\n",
       "  <thead>\n",
       "    <tr style=\"text-align: right;\">\n",
       "      <th></th>\n",
       "      <th>Location</th>\n",
       "      <th>Startup_Name</th>\n",
       "    </tr>\n",
       "  </thead>\n",
       "  <tbody>\n",
       "    <tr>\n",
       "      <th>0</th>\n",
       "      <td>Pune</td>\n",
       "      <td>FPL Technologies</td>\n",
       "    </tr>\n",
       "    <tr>\n",
       "      <th>1</th>\n",
       "      <td>Mumbai</td>\n",
       "      <td>Cashflo</td>\n",
       "    </tr>\n",
       "    <tr>\n",
       "      <th>2</th>\n",
       "      <td>Mumbai</td>\n",
       "      <td>Digital F5</td>\n",
       "    </tr>\n",
       "    <tr>\n",
       "      <th>3</th>\n",
       "      <td>Hyderabad</td>\n",
       "      <td>3rdFlix</td>\n",
       "    </tr>\n",
       "  </tbody>\n",
       "</table>\n",
       "</div>"
      ],
      "text/plain": [
       "    Location      Startup_Name\n",
       "0       Pune  FPL Technologies\n",
       "1     Mumbai           Cashflo\n",
       "2     Mumbai        Digital F5\n",
       "3  Hyderabad           3rdFlix"
      ]
     },
     "execution_count": 94,
     "metadata": {},
     "output_type": "execute_result"
    }
   ],
   "source": [
    "# First 2 rows along with column values of 'Location' and 'Startup_Name'\n",
    "\n",
    "startup.loc[0:3, ['Location','Startup_Name']]"
   ]
  },
  {
   "cell_type": "code",
   "execution_count": 97,
   "metadata": {},
   "outputs": [
    {
     "data": {
      "text/html": [
       "<div>\n",
       "<style scoped>\n",
       "    .dataframe tbody tr th:only-of-type {\n",
       "        vertical-align: middle;\n",
       "    }\n",
       "\n",
       "    .dataframe tbody tr th {\n",
       "        vertical-align: top;\n",
       "    }\n",
       "\n",
       "    .dataframe thead th {\n",
       "        text-align: right;\n",
       "    }\n",
       "</style>\n",
       "<table border=\"1\" class=\"dataframe\">\n",
       "  <thead>\n",
       "    <tr style=\"text-align: right;\">\n",
       "      <th></th>\n",
       "      <th>Startup_Name</th>\n",
       "      <th>Industry_Vertical</th>\n",
       "      <th>Sub_Vertical</th>\n",
       "      <th>Location</th>\n",
       "    </tr>\n",
       "  </thead>\n",
       "  <tbody>\n",
       "    <tr>\n",
       "      <th>0</th>\n",
       "      <td>FPL Technologies</td>\n",
       "      <td>FinTech</td>\n",
       "      <td>Financial Services</td>\n",
       "      <td>Pune</td>\n",
       "    </tr>\n",
       "    <tr>\n",
       "      <th>1</th>\n",
       "      <td>Cashflo</td>\n",
       "      <td>FinTech</td>\n",
       "      <td>Invoice discounting platform and SME lending m...</td>\n",
       "      <td>Mumbai</td>\n",
       "    </tr>\n",
       "    <tr>\n",
       "      <th>2</th>\n",
       "      <td>Digital F5</td>\n",
       "      <td>Advertising, Marketing</td>\n",
       "      <td>Digital marketing firm</td>\n",
       "      <td>Mumbai</td>\n",
       "    </tr>\n",
       "    <tr>\n",
       "      <th>3</th>\n",
       "      <td>3rdFlix</td>\n",
       "      <td>SaaS</td>\n",
       "      <td>Education Technology</td>\n",
       "      <td>Hyderabad</td>\n",
       "    </tr>\n",
       "  </tbody>\n",
       "</table>\n",
       "</div>"
      ],
      "text/plain": [
       "       Startup_Name       Industry_Vertical  \\\n",
       "0  FPL Technologies                 FinTech   \n",
       "1           Cashflo                 FinTech   \n",
       "2        Digital F5  Advertising, Marketing   \n",
       "3           3rdFlix                    SaaS   \n",
       "\n",
       "                                        Sub_Vertical   Location  \n",
       "0                                 Financial Services       Pune  \n",
       "1  Invoice discounting platform and SME lending m...     Mumbai  \n",
       "2                             Digital marketing firm     Mumbai  \n",
       "3                               Education Technology  Hyderabad  "
      ]
     },
     "execution_count": 97,
     "metadata": {},
     "output_type": "execute_result"
    }
   ],
   "source": [
    "startup.loc[0:3, 'Startup_Name':'Location']"
   ]
  },
  {
   "cell_type": "code",
   "execution_count": 108,
   "metadata": {},
   "outputs": [
    {
     "data": {
      "text/plain": [
       "0             Pune\n",
       "1           Mumbai\n",
       "19    Santa Monica\n",
       "20         Gurgaon\n",
       "50         Haryana\n",
       "51        New York\n",
       "Name: Location, dtype: object"
      ]
     },
     "execution_count": 108,
     "metadata": {},
     "output_type": "execute_result"
    }
   ],
   "source": [
    "startup.loc[startup.Industry_Vertical=='FinTech','Location']"
   ]
  },
  {
   "cell_type": "markdown",
   "metadata": {},
   "source": [
    "### iloc method is preferred when we are selecting rows and columns through position of an integer.\n",
    "\n",
    "The values passed to it are as follows:\n",
    "\n",
    "**Single integer position**,**List of integer positions**,**Slice of integer positions**, **Colon**"
   ]
  },
  {
   "cell_type": "code",
   "execution_count": 114,
   "metadata": {},
   "outputs": [
    {
     "data": {
      "text/html": [
       "<div>\n",
       "<style scoped>\n",
       "    .dataframe tbody tr th:only-of-type {\n",
       "        vertical-align: middle;\n",
       "    }\n",
       "\n",
       "    .dataframe tbody tr th {\n",
       "        vertical-align: top;\n",
       "    }\n",
       "\n",
       "    .dataframe thead th {\n",
       "        text-align: right;\n",
       "    }\n",
       "</style>\n",
       "<table border=\"1\" class=\"dataframe\">\n",
       "  <thead>\n",
       "    <tr style=\"text-align: right;\">\n",
       "      <th></th>\n",
       "      <th>Startup_Name</th>\n",
       "      <th>Sub_Vertical</th>\n",
       "    </tr>\n",
       "  </thead>\n",
       "  <tbody>\n",
       "    <tr>\n",
       "      <th>3</th>\n",
       "      <td>3rdFlix</td>\n",
       "      <td>Education Technology</td>\n",
       "    </tr>\n",
       "    <tr>\n",
       "      <th>4</th>\n",
       "      <td>75F</td>\n",
       "      <td>Building automation system</td>\n",
       "    </tr>\n",
       "    <tr>\n",
       "      <th>5</th>\n",
       "      <td>Myelin Foundry</td>\n",
       "      <td>Deep-technology</td>\n",
       "    </tr>\n",
       "  </tbody>\n",
       "</table>\n",
       "</div>"
      ],
      "text/plain": [
       "     Startup_Name                Sub_Vertical\n",
       "3         3rdFlix        Education Technology\n",
       "4             75F  Building automation system\n",
       "5  Myelin Foundry             Deep-technology"
      ]
     },
     "execution_count": 114,
     "metadata": {},
     "output_type": "execute_result"
    }
   ],
   "source": [
    "# rows of integer position 0, 1 and 2. Columns of integer positions 0 and 4\n",
    "\n",
    "startup.iloc[[3,4,5],[2,4]]"
   ]
  },
  {
   "cell_type": "code",
   "execution_count": 115,
   "metadata": {},
   "outputs": [
    {
     "data": {
      "text/html": [
       "<div>\n",
       "<style scoped>\n",
       "    .dataframe tbody tr th:only-of-type {\n",
       "        vertical-align: middle;\n",
       "    }\n",
       "\n",
       "    .dataframe tbody tr th {\n",
       "        vertical-align: top;\n",
       "    }\n",
       "\n",
       "    .dataframe thead th {\n",
       "        text-align: right;\n",
       "    }\n",
       "</style>\n",
       "<table border=\"1\" class=\"dataframe\">\n",
       "  <thead>\n",
       "    <tr style=\"text-align: right;\">\n",
       "      <th></th>\n",
       "      <th>Sr No</th>\n",
       "      <th>Date</th>\n",
       "      <th>Startup_Name</th>\n",
       "      <th>Industry_Vertical</th>\n",
       "    </tr>\n",
       "  </thead>\n",
       "  <tbody>\n",
       "    <tr>\n",
       "      <th>0</th>\n",
       "      <td>0</td>\n",
       "      <td>05-09-2019</td>\n",
       "      <td>FPL Technologies</td>\n",
       "      <td>FinTech</td>\n",
       "    </tr>\n",
       "    <tr>\n",
       "      <th>1</th>\n",
       "      <td>1</td>\n",
       "      <td>04-09-2019</td>\n",
       "      <td>Cashflo</td>\n",
       "      <td>FinTech</td>\n",
       "    </tr>\n",
       "  </tbody>\n",
       "</table>\n",
       "</div>"
      ],
      "text/plain": [
       "   Sr No        Date      Startup_Name Industry_Vertical\n",
       "0      0  05-09-2019  FPL Technologies           FinTech\n",
       "1      1  04-09-2019           Cashflo           FinTech"
      ]
     },
     "execution_count": 115,
     "metadata": {},
     "output_type": "execute_result"
    }
   ],
   "source": [
    "startup.iloc[0:2,0:4]"
   ]
  },
  {
   "cell_type": "markdown",
   "metadata": {},
   "source": [
    "<a href=\"https://pandas.pydata.org/pandas-docs/stable/user_guide/indexing.html\">**loc and iloc methods documentation**</a>"
   ]
  },
  {
   "cell_type": "markdown",
   "metadata": {},
   "source": [
    "# Detecting duplicate values"
   ]
  },
  {
   "cell_type": "code",
   "execution_count": 116,
   "metadata": {},
   "outputs": [
    {
     "data": {
      "text/plain": [
       "0       False\n",
       "1       False\n",
       "2        True\n",
       "3        True\n",
       "4        True\n",
       "5        True\n",
       "6        True\n",
       "7        True\n",
       "8       False\n",
       "9       False\n",
       "10       True\n",
       "11       True\n",
       "12       True\n",
       "13       True\n",
       "14      False\n",
       "15      False\n",
       "16       True\n",
       "17      False\n",
       "18       True\n",
       "19       True\n",
       "20      False\n",
       "21      False\n",
       "22       True\n",
       "23      False\n",
       "24       True\n",
       "25      False\n",
       "26      False\n",
       "27       True\n",
       "28      False\n",
       "29      False\n",
       "        ...  \n",
       "2979    False\n",
       "2980     True\n",
       "2981     True\n",
       "2982     True\n",
       "2983     True\n",
       "2984     True\n",
       "2985     True\n",
       "2986     True\n",
       "2987    False\n",
       "2988     True\n",
       "2989     True\n",
       "2990    False\n",
       "2991     True\n",
       "2992     True\n",
       "2993     True\n",
       "2994    False\n",
       "2995    False\n",
       "2996     True\n",
       "2997     True\n",
       "2998     True\n",
       "2999    False\n",
       "3000     True\n",
       "3001    False\n",
       "3002    False\n",
       "3003    False\n",
       "3004    False\n",
       "3005     True\n",
       "3006    False\n",
       "3007     True\n",
       "3008    False\n",
       "Name: Date, Length: 3009, dtype: bool"
      ]
     },
     "execution_count": 116,
     "metadata": {},
     "output_type": "execute_result"
    }
   ],
   "source": [
    "#Detecting duplicate dates : So if two consecutive dates are same, then the output is true otherwise false\n",
    "\n",
    "startup.Date.duplicated()"
   ]
  },
  {
   "cell_type": "code",
   "execution_count": 118,
   "metadata": {},
   "outputs": [
    {
     "data": {
      "text/plain": [
       "2000"
      ]
     },
     "execution_count": 118,
     "metadata": {},
     "output_type": "execute_result"
    }
   ],
   "source": [
    "# Counting the duplicate items (Here for True we get a count of 1 and for False a count of 0)\n",
    "\n",
    "startup.Date.duplicated().sum()"
   ]
  },
  {
   "cell_type": "code",
   "execution_count": 119,
   "metadata": {},
   "outputs": [
    {
     "data": {
      "text/plain": [
       "0     False\n",
       "1     False\n",
       "2     False\n",
       "3     False\n",
       "4     False\n",
       "5     False\n",
       "6     False\n",
       "7     False\n",
       "8     False\n",
       "9     False\n",
       "10    False\n",
       "11    False\n",
       "12    False\n",
       "13    False\n",
       "14    False\n",
       "15    False\n",
       "16    False\n",
       "17    False\n",
       "18    False\n",
       "19    False\n",
       "20    False\n",
       "21    False\n",
       "22    False\n",
       "23    False\n",
       "24    False\n",
       "25    False\n",
       "26    False\n",
       "27    False\n",
       "28    False\n",
       "29    False\n",
       "30    False\n",
       "31    False\n",
       "32    False\n",
       "33    False\n",
       "34    False\n",
       "35    False\n",
       "36    False\n",
       "37    False\n",
       "38    False\n",
       "39    False\n",
       "40    False\n",
       "41    False\n",
       "42    False\n",
       "43    False\n",
       "44    False\n",
       "45    False\n",
       "46    False\n",
       "47    False\n",
       "48    False\n",
       "49    False\n",
       "dtype: bool"
      ]
     },
     "execution_count": 119,
     "metadata": {},
     "output_type": "execute_result"
    }
   ],
   "source": [
    "# For checking if two consecutive rows have identical value\n",
    "\n",
    "startup.duplicated().head(50)"
   ]
  },
  {
   "cell_type": "code",
   "execution_count": 120,
   "metadata": {},
   "outputs": [
    {
     "data": {
      "text/plain": [
       "0"
      ]
     },
     "execution_count": 120,
     "metadata": {},
     "output_type": "execute_result"
    }
   ],
   "source": [
    "# Counting the duplicated rows in whole dataset\n",
    "\n",
    "startup.duplicated().sum()"
   ]
  },
  {
   "cell_type": "markdown",
   "metadata": {},
   "source": [
    "<a href=\"https://pandas.pydata.org/pandas-docs/stable/reference/api/pandas.DataFrame.duplicated.html\">**duplicated() documentation**</a>"
   ]
  },
  {
   "cell_type": "code",
   "execution_count": null,
   "metadata": {},
   "outputs": [],
   "source": []
  }
 ],
 "metadata": {
  "kernelspec": {
   "display_name": "Python 3",
   "language": "python",
   "name": "python3"
  },
  "language_info": {
   "codemirror_mode": {
    "name": "ipython",
    "version": 3
   },
   "file_extension": ".py",
   "mimetype": "text/x-python",
   "name": "python",
   "nbconvert_exporter": "python",
   "pygments_lexer": "ipython3",
   "version": "3.7.3"
  }
 },
 "nbformat": 4,
 "nbformat_minor": 2
}
