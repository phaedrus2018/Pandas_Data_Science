{
 "cells": [
  {
   "cell_type": "markdown",
   "metadata": {},
   "source": [
    "<a href='http://www.stepupanalytics.com'> <img src='stepup_picture.png' /></a>"
   ]
  },
  {
   "cell_type": "markdown",
   "metadata": {},
   "source": [
    "# Splitting a dataframe into two subsets"
   ]
  },
  {
   "cell_type": "markdown",
   "metadata": {},
   "source": [
    "### Assuming we want to split a dataframe in two parts, let's assign one subset 80% of rows and other subset the remaining 20%."
   ]
  },
  {
   "cell_type": "code",
   "execution_count": 1,
   "metadata": {},
   "outputs": [],
   "source": [
    "import pandas as pd\n",
    "\n",
    "startup = pd.read_csv(\"startup_funding.csv\")"
   ]
  },
  {
   "cell_type": "code",
   "execution_count": 2,
   "metadata": {},
   "outputs": [
    {
     "data": {
      "text/plain": [
       "3009"
      ]
     },
     "execution_count": 2,
     "metadata": {},
     "output_type": "execute_result"
    }
   ],
   "source": [
    "len(startup)"
   ]
  },
  {
   "cell_type": "markdown",
   "metadata": {},
   "source": [
    "Clearly we'll be splitting these 3009 rows into two random subsets."
   ]
  },
  {
   "cell_type": "code",
   "execution_count": 3,
   "metadata": {},
   "outputs": [],
   "source": [
    "startup_1 = startup.sample(frac=0.80)"
   ]
  },
  {
   "cell_type": "markdown",
   "metadata": {},
   "source": [
    "Now to get the other subset, we'll use the drop() method to drop all the rows which are present in 'startup_1'."
   ]
  },
  {
   "cell_type": "code",
   "execution_count": 4,
   "metadata": {},
   "outputs": [],
   "source": [
    "startup_2 = startup.drop(startup_1.index)"
   ]
  },
  {
   "cell_type": "markdown",
   "metadata": {},
   "source": [
    "<a href=\"https://pandas.pydata.org/pandas-docs/stable/reference/api/pandas.DataFrame.sample.html\">**sample() documentation**</a>"
   ]
  },
  {
   "cell_type": "code",
   "execution_count": 5,
   "metadata": {},
   "outputs": [
    {
     "data": {
      "text/plain": [
       "2407"
      ]
     },
     "execution_count": 5,
     "metadata": {},
     "output_type": "execute_result"
    }
   ],
   "source": [
    "len(startup_1)"
   ]
  },
  {
   "cell_type": "code",
   "execution_count": 6,
   "metadata": {},
   "outputs": [
    {
     "data": {
      "text/plain": [
       "602"
      ]
     },
     "execution_count": 6,
     "metadata": {},
     "output_type": "execute_result"
    }
   ],
   "source": [
    "len(startup_2)"
   ]
  },
  {
   "cell_type": "code",
   "execution_count": 7,
   "metadata": {},
   "outputs": [
    {
     "data": {
      "text/plain": [
       "3009"
      ]
     },
     "execution_count": 7,
     "metadata": {},
     "output_type": "execute_result"
    }
   ],
   "source": [
    "len(startup_1) + len(startup_2)"
   ]
  },
  {
   "cell_type": "markdown",
   "metadata": {},
   "source": [
    "# String Methods in pandas"
   ]
  },
  {
   "cell_type": "code",
   "execution_count": 9,
   "metadata": {},
   "outputs": [
    {
     "data": {
      "text/plain": [
       "0          PUNE\n",
       "1        MUMBAI\n",
       "2        MUMBAI\n",
       "3     HYDERABAD\n",
       "4    BURNSVILLE\n",
       "Name: Location, dtype: object"
      ]
     },
     "execution_count": 9,
     "metadata": {},
     "output_type": "execute_result"
    }
   ],
   "source": [
    "#String method for converting the values of a series to uppercase\n",
    "\n",
    "startup.Location.str.upper().head()"
   ]
  },
  {
   "cell_type": "code",
   "execution_count": 13,
   "metadata": {},
   "outputs": [
    {
     "data": {
      "text/plain": [
       "0    False\n",
       "1     True\n",
       "2     True\n",
       "3    False\n",
       "4    False\n",
       "Name: Location, dtype: object"
      ]
     },
     "execution_count": 13,
     "metadata": {},
     "output_type": "execute_result"
    }
   ],
   "source": [
    "# String method 'contains' helps in checking whether a substring consists a substring and it gives results as a boolean series\n",
    "\n",
    "startup.Location.str.contains('umb').head()"
   ]
  },
  {
   "cell_type": "code",
   "execution_count": 16,
   "metadata": {},
   "outputs": [],
   "source": [
    "startup['Industry_Vertical'].fillna(value='Unknown',inplace=True)"
   ]
  },
  {
   "cell_type": "code",
   "execution_count": 17,
   "metadata": {},
   "outputs": [
    {
     "data": {
      "text/html": [
       "<div>\n",
       "<style scoped>\n",
       "    .dataframe tbody tr th:only-of-type {\n",
       "        vertical-align: middle;\n",
       "    }\n",
       "\n",
       "    .dataframe tbody tr th {\n",
       "        vertical-align: top;\n",
       "    }\n",
       "\n",
       "    .dataframe thead th {\n",
       "        text-align: right;\n",
       "    }\n",
       "</style>\n",
       "<table border=\"1\" class=\"dataframe\">\n",
       "  <thead>\n",
       "    <tr style=\"text-align: right;\">\n",
       "      <th></th>\n",
       "      <th>Sr No</th>\n",
       "      <th>Date</th>\n",
       "      <th>Startup_Name</th>\n",
       "      <th>Industry_Vertical</th>\n",
       "      <th>Sub_Vertical</th>\n",
       "      <th>Location</th>\n",
       "      <th>Investors</th>\n",
       "      <th>Investment_Type</th>\n",
       "      <th>Amount_in_USD</th>\n",
       "    </tr>\n",
       "  </thead>\n",
       "  <tbody>\n",
       "    <tr>\n",
       "      <th>60</th>\n",
       "      <td>61</td>\n",
       "      <td>28-05-2019</td>\n",
       "      <td>FreshVnF</td>\n",
       "      <td>Agtech</td>\n",
       "      <td>Fresh Agriculture Produces</td>\n",
       "      <td>Mumbai</td>\n",
       "      <td>Equanimity Ventures</td>\n",
       "      <td>Seed Round</td>\n",
       "      <td>14,00,00,000</td>\n",
       "    </tr>\n",
       "    <tr>\n",
       "      <th>68</th>\n",
       "      <td>69</td>\n",
       "      <td>11-04-2019</td>\n",
       "      <td>Setu</td>\n",
       "      <td>Fintech</td>\n",
       "      <td>Banking</td>\n",
       "      <td>Bengaluru</td>\n",
       "      <td>Lightspeed India Partners</td>\n",
       "      <td>Seed Funding</td>\n",
       "      <td>35,00,000</td>\n",
       "    </tr>\n",
       "    <tr>\n",
       "      <th>69</th>\n",
       "      <td>70</td>\n",
       "      <td>10-04-2019</td>\n",
       "      <td>Toppr</td>\n",
       "      <td>Edtech</td>\n",
       "      <td>E-learning</td>\n",
       "      <td>Mumbai</td>\n",
       "      <td>Milestone</td>\n",
       "      <td>Debt and Preference capital</td>\n",
       "      <td>63,20,820</td>\n",
       "    </tr>\n",
       "    <tr>\n",
       "      <th>71</th>\n",
       "      <td>72</td>\n",
       "      <td>10-04-2019</td>\n",
       "      <td>Unacademy</td>\n",
       "      <td>Edtech</td>\n",
       "      <td>E-learning</td>\n",
       "      <td>Bengaluru</td>\n",
       "      <td>Kalyan Krishnamurthy</td>\n",
       "      <td>Seed/ Angel Funding</td>\n",
       "      <td>3,07,000</td>\n",
       "    </tr>\n",
       "    <tr>\n",
       "      <th>79</th>\n",
       "      <td>80</td>\n",
       "      <td>13-02-2019</td>\n",
       "      <td>NanoClean Global</td>\n",
       "      <td>Nanotechnology</td>\n",
       "      <td>Anti-Pollution</td>\n",
       "      <td>New Delhi</td>\n",
       "      <td>LetsVenture, PitchRight Venture, 91SpringBoard...</td>\n",
       "      <td>Series A</td>\n",
       "      <td>6,00,000</td>\n",
       "    </tr>\n",
       "  </tbody>\n",
       "</table>\n",
       "</div>"
      ],
      "text/plain": [
       "    Sr No        Date      Startup_Name Industry_Vertical  \\\n",
       "60     61  28-05-2019          FreshVnF            Agtech   \n",
       "68     69  11-04-2019              Setu           Fintech   \n",
       "69     70  10-04-2019             Toppr            Edtech   \n",
       "71     72  10-04-2019         Unacademy            Edtech   \n",
       "79     80  13-02-2019  NanoClean Global    Nanotechnology   \n",
       "\n",
       "                  Sub_Vertical   Location  \\\n",
       "60  Fresh Agriculture Produces     Mumbai   \n",
       "68                     Banking  Bengaluru   \n",
       "69                  E-learning     Mumbai   \n",
       "71                  E-learning  Bengaluru   \n",
       "79              Anti-Pollution  New Delhi   \n",
       "\n",
       "                                            Investors  \\\n",
       "60                                Equanimity Ventures   \n",
       "68                          Lightspeed India Partners   \n",
       "69                                          Milestone   \n",
       "71                               Kalyan Krishnamurthy   \n",
       "79  LetsVenture, PitchRight Venture, 91SpringBoard...   \n",
       "\n",
       "                Investment_Type Amount_in_USD  \n",
       "60                   Seed Round  14,00,00,000  \n",
       "68                 Seed Funding     35,00,000  \n",
       "69  Debt and Preference capital     63,20,820  \n",
       "71          Seed/ Angel Funding      3,07,000  \n",
       "79                     Series A      6,00,000  "
      ]
     },
     "execution_count": 17,
     "metadata": {},
     "output_type": "execute_result"
    }
   ],
   "source": [
    "# using the boolean series for filtering the dataframe\n",
    "\n",
    "startup[startup.Industry_Vertical.str.contains('tech')].head()"
   ]
  },
  {
   "cell_type": "markdown",
   "metadata": {},
   "source": [
    "# Applying a function to pandas series/dataframe"
   ]
  },
  {
   "cell_type": "markdown",
   "metadata": {},
   "source": [
    "### Using the map() function to map existing values of a series to create different set of values"
   ]
  },
  {
   "cell_type": "code",
   "execution_count": 22,
   "metadata": {},
   "outputs": [
    {
     "data": {
      "text/html": [
       "<div>\n",
       "<style scoped>\n",
       "    .dataframe tbody tr th:only-of-type {\n",
       "        vertical-align: middle;\n",
       "    }\n",
       "\n",
       "    .dataframe tbody tr th {\n",
       "        vertical-align: top;\n",
       "    }\n",
       "\n",
       "    .dataframe thead th {\n",
       "        text-align: right;\n",
       "    }\n",
       "</style>\n",
       "<table border=\"1\" class=\"dataframe\">\n",
       "  <thead>\n",
       "    <tr style=\"text-align: right;\">\n",
       "      <th></th>\n",
       "      <th>Startup_Name</th>\n",
       "      <th>Fund_Map</th>\n",
       "    </tr>\n",
       "  </thead>\n",
       "  <tbody>\n",
       "    <tr>\n",
       "      <th>20</th>\n",
       "      <td>INDwealth</td>\n",
       "      <td>NaN</td>\n",
       "    </tr>\n",
       "    <tr>\n",
       "      <th>21</th>\n",
       "      <td>HungerBox</td>\n",
       "      <td>NaN</td>\n",
       "    </tr>\n",
       "    <tr>\n",
       "      <th>22</th>\n",
       "      <td>AdmitKard</td>\n",
       "      <td>NaN</td>\n",
       "    </tr>\n",
       "    <tr>\n",
       "      <th>23</th>\n",
       "      <td>Mishry Reviews</td>\n",
       "      <td>0.0</td>\n",
       "    </tr>\n",
       "    <tr>\n",
       "      <th>24</th>\n",
       "      <td>Grofers</td>\n",
       "      <td>NaN</td>\n",
       "    </tr>\n",
       "    <tr>\n",
       "      <th>25</th>\n",
       "      <td>Rapido Bike Taxi</td>\n",
       "      <td>1.0</td>\n",
       "    </tr>\n",
       "    <tr>\n",
       "      <th>26</th>\n",
       "      <td>RenewBuy</td>\n",
       "      <td>1.0</td>\n",
       "    </tr>\n",
       "    <tr>\n",
       "      <th>27</th>\n",
       "      <td>Atlan</td>\n",
       "      <td>NaN</td>\n",
       "    </tr>\n",
       "    <tr>\n",
       "      <th>28</th>\n",
       "      <td>WizCounsel</td>\n",
       "      <td>NaN</td>\n",
       "    </tr>\n",
       "    <tr>\n",
       "      <th>29</th>\n",
       "      <td>Ola Cabs</td>\n",
       "      <td>NaN</td>\n",
       "    </tr>\n",
       "    <tr>\n",
       "      <th>30</th>\n",
       "      <td>Uniphore</td>\n",
       "      <td>NaN</td>\n",
       "    </tr>\n",
       "  </tbody>\n",
       "</table>\n",
       "</div>"
      ],
      "text/plain": [
       "        Startup_Name  Fund_Map\n",
       "20         INDwealth       NaN\n",
       "21         HungerBox       NaN\n",
       "22         AdmitKard       NaN\n",
       "23    Mishry Reviews       0.0\n",
       "24           Grofers       NaN\n",
       "25  Rapido Bike Taxi       1.0\n",
       "26          RenewBuy       1.0\n",
       "27             Atlan       NaN\n",
       "28        WizCounsel       NaN\n",
       "29          Ola Cabs       NaN\n",
       "30          Uniphore       NaN"
      ]
     },
     "execution_count": 22,
     "metadata": {},
     "output_type": "execute_result"
    }
   ],
   "source": [
    "# mapping 'Series A' type funding to 0 and 'Series B' funding to 1\n",
    "\n",
    "startup['Fund_Map'] = startup.Investment_Type.map({'Series A':0,'Series B':1})\n",
    "\n",
    "startup.loc[20:30, ['Startup_Name','Fund_Map']]"
   ]
  },
  {
   "cell_type": "markdown",
   "metadata": {},
   "source": [
    "<a href=\"https://pandas.pydata.org/pandas-docs/stable/reference/api/pandas.Series.map.html\">**map() documentation**</a>"
   ]
  },
  {
   "cell_type": "code",
   "execution_count": 29,
   "metadata": {},
   "outputs": [],
   "source": [
    "# Loading another dataset\n",
    "\n",
    "drinksco = pd.read_csv(\"drinks.csv\")"
   ]
  },
  {
   "cell_type": "code",
   "execution_count": 30,
   "metadata": {},
   "outputs": [
    {
     "data": {
      "text/plain": [
       "0      0\n",
       "1    132\n",
       "2     25\n",
       "3    312\n",
       "4    217\n",
       "dtype: int64"
      ]
     },
     "execution_count": 30,
     "metadata": {},
     "output_type": "execute_result"
    }
   ],
   "source": [
    "# applying the max function to obtain maximum value in each row\n",
    "\n",
    "drinksco.loc[:,'beer_servings':'wine_servings'].apply(max,axis=1).head()"
   ]
  },
  {
   "cell_type": "markdown",
   "metadata": {},
   "source": [
    "<a href=\"https://pandas.pydata.org/pandas-docs/stable/reference/api/pandas.DataFrame.apply.html\">**apply() documentation**</a>"
   ]
  },
  {
   "cell_type": "markdown",
   "metadata": {},
   "source": [
    "### Applying a function to every element in a dataframe"
   ]
  },
  {
   "cell_type": "code",
   "execution_count": 32,
   "metadata": {},
   "outputs": [
    {
     "data": {
      "text/html": [
       "<div>\n",
       "<style scoped>\n",
       "    .dataframe tbody tr th:only-of-type {\n",
       "        vertical-align: middle;\n",
       "    }\n",
       "\n",
       "    .dataframe tbody tr th {\n",
       "        vertical-align: top;\n",
       "    }\n",
       "\n",
       "    .dataframe thead th {\n",
       "        text-align: right;\n",
       "    }\n",
       "</style>\n",
       "<table border=\"1\" class=\"dataframe\">\n",
       "  <thead>\n",
       "    <tr style=\"text-align: right;\">\n",
       "      <th></th>\n",
       "      <th>beer_servings</th>\n",
       "      <th>spirit_servings</th>\n",
       "      <th>wine_servings</th>\n",
       "    </tr>\n",
       "  </thead>\n",
       "  <tbody>\n",
       "    <tr>\n",
       "      <th>0</th>\n",
       "      <td>0.0</td>\n",
       "      <td>0.0</td>\n",
       "      <td>0.0</td>\n",
       "    </tr>\n",
       "    <tr>\n",
       "      <th>1</th>\n",
       "      <td>89.0</td>\n",
       "      <td>132.0</td>\n",
       "      <td>54.0</td>\n",
       "    </tr>\n",
       "    <tr>\n",
       "      <th>2</th>\n",
       "      <td>25.0</td>\n",
       "      <td>0.0</td>\n",
       "      <td>14.0</td>\n",
       "    </tr>\n",
       "    <tr>\n",
       "      <th>3</th>\n",
       "      <td>245.0</td>\n",
       "      <td>138.0</td>\n",
       "      <td>312.0</td>\n",
       "    </tr>\n",
       "    <tr>\n",
       "      <th>4</th>\n",
       "      <td>217.0</td>\n",
       "      <td>57.0</td>\n",
       "      <td>45.0</td>\n",
       "    </tr>\n",
       "  </tbody>\n",
       "</table>\n",
       "</div>"
      ],
      "text/plain": [
       "   beer_servings  spirit_servings  wine_servings\n",
       "0            0.0              0.0            0.0\n",
       "1           89.0            132.0           54.0\n",
       "2           25.0              0.0           14.0\n",
       "3          245.0            138.0          312.0\n",
       "4          217.0             57.0           45.0"
      ]
     },
     "execution_count": 32,
     "metadata": {},
     "output_type": "execute_result"
    }
   ],
   "source": [
    "# converting every element into a float\n",
    "drinksco.loc[:,'beer_servings':'wine_servings'].applymap(float).head()"
   ]
  },
  {
   "cell_type": "markdown",
   "metadata": {},
   "source": [
    "<a href=\"https://pandas.pydata.org/pandas-docs/stable/reference/api/pandas.DataFrame.applymap.html\">**applymap() documentation**</a>"
   ]
  },
  {
   "cell_type": "code",
   "execution_count": null,
   "metadata": {},
   "outputs": [],
   "source": []
  }
 ],
 "metadata": {
  "kernelspec": {
   "display_name": "Python 3",
   "language": "python",
   "name": "python3"
  },
  "language_info": {
   "codemirror_mode": {
    "name": "ipython",
    "version": 3
   },
   "file_extension": ".py",
   "mimetype": "text/x-python",
   "name": "python",
   "nbconvert_exporter": "python",
   "pygments_lexer": "ipython3",
   "version": "3.7.3"
  }
 },
 "nbformat": 4,
 "nbformat_minor": 2
}
